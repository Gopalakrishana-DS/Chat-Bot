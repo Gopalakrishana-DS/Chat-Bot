{
 "cells": [
  {
   "cell_type": "code",
   "execution_count": 144,
   "id": "9c2e617f",
   "metadata": {},
   "outputs": [],
   "source": [
    "import pandas as pd\n",
    "import numpy as np\n",
    "from nltk.stem import WordNetLemmatizer, PorterStemmer\n",
    "from nltk.corpus import stopwords\n",
    "import re\n",
    "from sklearn.feature_extraction.text import TfidfVectorizer\n",
    "from sklearn.metrics.pairwise import cosine_similarity\n",
    "import nltk\n",
    "import json\n",
    "#nltk.download('punkt')\n",
    "#nltk.download('stopwords')\n",
    "#nltk.download('wordnet')"
   ]
  },
  {
   "cell_type": "code",
   "execution_count": 145,
   "id": "02a2f14f",
   "metadata": {},
   "outputs": [],
   "source": [
    "data = pd.read_csv('dialogs.txt' , sep='\\t' , names=['Question' , 'Answer'])"
   ]
  },
  {
   "cell_type": "code",
   "execution_count": 146,
   "id": "375929db",
   "metadata": {},
   "outputs": [],
   "source": [
    "question_list = data['Question'].tolist()\n",
    "answer_list = data['Answer'].tolist()"
   ]
  },
  {
   "cell_type": "code",
   "execution_count": 147,
   "id": "6147c1a2",
   "metadata": {},
   "outputs": [
    {
     "data": {
      "text/html": [
       "<div>\n",
       "<style scoped>\n",
       "    .dataframe tbody tr th:only-of-type {\n",
       "        vertical-align: middle;\n",
       "    }\n",
       "\n",
       "    .dataframe tbody tr th {\n",
       "        vertical-align: top;\n",
       "    }\n",
       "\n",
       "    .dataframe thead th {\n",
       "        text-align: right;\n",
       "    }\n",
       "</style>\n",
       "<table border=\"1\" class=\"dataframe\">\n",
       "  <thead>\n",
       "    <tr style=\"text-align: right;\">\n",
       "      <th></th>\n",
       "      <th>Question</th>\n",
       "      <th>Answer</th>\n",
       "    </tr>\n",
       "  </thead>\n",
       "  <tbody>\n",
       "    <tr>\n",
       "      <th>0</th>\n",
       "      <td>hi,</td>\n",
       "      <td>hi how can i help you</td>\n",
       "    </tr>\n",
       "    <tr>\n",
       "      <th>1</th>\n",
       "      <td>hi, how are you doing?</td>\n",
       "      <td>i'm fine. how about yourself?</td>\n",
       "    </tr>\n",
       "    <tr>\n",
       "      <th>2</th>\n",
       "      <td>i'm fine. how about yourself?</td>\n",
       "      <td>i'm pretty good. thanks for asking.</td>\n",
       "    </tr>\n",
       "    <tr>\n",
       "      <th>3</th>\n",
       "      <td>i'm pretty good. thanks for asking.</td>\n",
       "      <td>no problem. so how have you been?</td>\n",
       "    </tr>\n",
       "    <tr>\n",
       "      <th>4</th>\n",
       "      <td>no problem. so how have you been?</td>\n",
       "      <td>i've been great. what about you?</td>\n",
       "    </tr>\n",
       "    <tr>\n",
       "      <th>...</th>\n",
       "      <td>...</td>\n",
       "      <td>...</td>\n",
       "    </tr>\n",
       "    <tr>\n",
       "      <th>3721</th>\n",
       "      <td>that's a good question. maybe it's not old age.</td>\n",
       "      <td>are you right-handed?</td>\n",
       "    </tr>\n",
       "    <tr>\n",
       "      <th>3722</th>\n",
       "      <td>are you right-handed?</td>\n",
       "      <td>yes. all my life.</td>\n",
       "    </tr>\n",
       "    <tr>\n",
       "      <th>3723</th>\n",
       "      <td>yes. all my life.</td>\n",
       "      <td>you're wearing out your right hand. stop using...</td>\n",
       "    </tr>\n",
       "    <tr>\n",
       "      <th>3724</th>\n",
       "      <td>you're wearing out your right hand. stop using...</td>\n",
       "      <td>but i do all my writing with my right hand.</td>\n",
       "    </tr>\n",
       "    <tr>\n",
       "      <th>3725</th>\n",
       "      <td>but i do all my writing with my right hand.</td>\n",
       "      <td>start typing instead. that way your left hand ...</td>\n",
       "    </tr>\n",
       "  </tbody>\n",
       "</table>\n",
       "<p>3726 rows × 2 columns</p>\n",
       "</div>"
      ],
      "text/plain": [
       "                                               Question  \\\n",
       "0                                                   hi,   \n",
       "1                                hi, how are you doing?   \n",
       "2                         i'm fine. how about yourself?   \n",
       "3                   i'm pretty good. thanks for asking.   \n",
       "4                     no problem. so how have you been?   \n",
       "...                                                 ...   \n",
       "3721    that's a good question. maybe it's not old age.   \n",
       "3722                              are you right-handed?   \n",
       "3723                                  yes. all my life.   \n",
       "3724  you're wearing out your right hand. stop using...   \n",
       "3725        but i do all my writing with my right hand.   \n",
       "\n",
       "                                                 Answer  \n",
       "0                                 hi how can i help you  \n",
       "1                         i'm fine. how about yourself?  \n",
       "2                   i'm pretty good. thanks for asking.  \n",
       "3                     no problem. so how have you been?  \n",
       "4                      i've been great. what about you?  \n",
       "...                                                 ...  \n",
       "3721                              are you right-handed?  \n",
       "3722                                  yes. all my life.  \n",
       "3723  you're wearing out your right hand. stop using...  \n",
       "3724        but i do all my writing with my right hand.  \n",
       "3725  start typing instead. that way your left hand ...  \n",
       "\n",
       "[3726 rows x 2 columns]"
      ]
     },
     "execution_count": 147,
     "metadata": {},
     "output_type": "execute_result"
    }
   ],
   "source": [
    "data"
   ]
  },
  {
   "cell_type": "code",
   "execution_count": 148,
   "id": "2d5bf9d4",
   "metadata": {},
   "outputs": [],
   "source": [
    "def preprocess(text):\n",
    "    lemmatizer = WordNetLemmatizer()\n",
    "    stemmer = PorterStemmer()\n",
    "    text = re.sub(r'[^\\w\\s]', '' , text)\n",
    "    tokens = nltk.word_tokenize(text.lower())\n",
    "    tokens = [token for token in tokens if token not in stopwords.words('english')]\n",
    "    lemmatize_tokens = [lemmatizer.lemmatize(token) for token in tokens]\n",
    "    stemmed_tokens = [stemmer.stem(token) for token in lemmatize_tokens]\n",
    "    return ' '.join(stemmed_tokens)"
   ]
  },
  {
   "cell_type": "code",
   "execution_count": 149,
   "id": "af42a4b6",
   "metadata": {},
   "outputs": [],
   "source": [
    "def preprocess_with_stopwords(text):\n",
    "    lemmatizer = WordNetLemmatizer()\n",
    "    stemmer = PorterStemmer()\n",
    "    text = re.sub(r'[^\\w\\s]', '' , text)\n",
    "    tokens = nltk.word_tokenize(text.lower())\n",
    "    lemmatize_tokens = [lemmatizer.lemmatize(token) for token in tokens]\n",
    "    stemmed_tokens = [stemmer.stem(token) for token in lemmatize_tokens]\n",
    "    return ' '.join(stemmed_tokens)"
   ]
  },
  {
   "cell_type": "code",
   "execution_count": 150,
   "id": "7ccb6010",
   "metadata": {},
   "outputs": [
    {
     "name": "stderr",
     "output_type": "stream",
     "text": [
      "C:\\Users\\Gopal\\anaconda3\\envs\\NLP\\lib\\site-packages\\sklearn\\feature_extraction\\text.py:525: UserWarning: The parameter 'token_pattern' will not be used since 'tokenizer' is not None'\n",
      "  warnings.warn(\n"
     ]
    }
   ],
   "source": [
    "corpus = question_list + answer_list\n",
    "vectorizer = TfidfVectorizer(tokenizer=nltk.word_tokenize)\n",
    "X = vectorizer.fit_transform([preprocess(text) for text in corpus])"
   ]
  },
  {
   "cell_type": "code",
   "execution_count": 151,
   "id": "af7d9889",
   "metadata": {},
   "outputs": [],
   "source": [
    "def get_response(text):\n",
    "    processed_text = preprocess_with_stopwords(text)\n",
    "    print('processed_text:', processed_text)\n",
    "    vectorized_text = vectorizer.transform([processed_text])\n",
    "    similarities = cosine_similarity(vectorized_text, X)\n",
    "    print('similarities:',similarities)\n",
    "    max_similarities = np.max(similarities)\n",
    "    print('max_similarities:',max_similarities)\n",
    "    if max_similarities > 0.6:\n",
    "        high_similarities_questions = [q for q, s in zip(question_list, similarities[0]) if s > 0.6]\n",
    "        print('high_similarities_questions:', high_similarities_questions)\n",
    "        \n",
    "        target_answers = []\n",
    "        for q in high_similarities_questions:\n",
    "            q_index = question_list.index(q)\n",
    "            target_answers.append(answer_list[q_index])\n",
    "        print(target_answers)\n",
    "        \n",
    "        # Use the same vectorizer for both input and high similarity questions\n",
    "        Z = vectorizer.transform([preprocess_with_stopwords(q) for q in high_similarities_questions])\n",
    "        processed_with_stopwords = preprocess_with_stopwords(text)\n",
    "        print('processed_with_stopwords:',processed_with_stopwords)\n",
    "        vectorized_text_with_stopwords = vectorizer.transform([processed_with_stopwords])\n",
    "        final_similarities = cosine_similarity(vectorized_text_with_stopwords, Z)\n",
    "        closet = np.argmax(final_similarities)\n",
    "        return target_answers[closet]\n",
    "    else:\n",
    "        return \"I can't answer this Question\"\n"
   ]
  },
  {
   "cell_type": "code",
   "execution_count": 156,
   "id": "1d03af96",
   "metadata": {},
   "outputs": [
    {
     "name": "stdout",
     "output_type": "stream",
     "text": [
      "processed_text: are you righthand\n",
      "similarities: [[0. 0. 0. ... 0. 0. 0.]]\n",
      "max_similarities: 1.0\n",
      "high_similarities_questions: ['are you right-handed?']\n",
      "['yes. all my life.']\n",
      "processed_with_stopwords: are you righthand\n"
     ]
    },
    {
     "data": {
      "text/plain": [
       "'yes. all my life.'"
      ]
     },
     "execution_count": 156,
     "metadata": {},
     "output_type": "execute_result"
    }
   ],
   "source": [
    "get_response(\"are you right-handed?\")"
   ]
  },
  {
   "cell_type": "code",
   "execution_count": null,
   "id": "162f7ba0",
   "metadata": {},
   "outputs": [],
   "source": []
  }
 ],
 "metadata": {
  "kernelspec": {
   "display_name": "Python 3 (ipykernel)",
   "language": "python",
   "name": "python3"
  },
  "language_info": {
   "codemirror_mode": {
    "name": "ipython",
    "version": 3
   },
   "file_extension": ".py",
   "mimetype": "text/x-python",
   "name": "python",
   "nbconvert_exporter": "python",
   "pygments_lexer": "ipython3",
   "version": "3.10.13"
  }
 },
 "nbformat": 4,
 "nbformat_minor": 5
}
